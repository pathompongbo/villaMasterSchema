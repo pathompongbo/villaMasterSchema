{
 "cells": [
  {
   "cell_type": "code",
   "execution_count": 2,
   "metadata": {},
   "outputs": [
    {
     "name": "stdout",
     "output_type": "stream",
     "text": [
      "Collecting nicHelper\n",
      "  Downloading nicHelper-0.0.43-py3-none-any.whl (21 kB)\n",
      "Collecting dpath\n",
      "  Using cached dpath-2.0.1.tar.gz (21 kB)\n",
      "Requirement already satisfied: ujson in /opt/homebrew/Caskroom/miniconda/base/lib/python3.8/site-packages (from nicHelper) (4.0.1)\n",
      "Collecting dataclasses-jsonschema\n",
      "  Using cached dataclasses_jsonschema-2.14.1-py3-none-any.whl (17 kB)\n",
      "Processing /Users/macbookm1/Library/Caches/pip/wheels/69/0a/6d/b5c188538466dc1e8f033fd5ab97adedcf184f3e81ffbd83c9/genson-1.2.2-py2.py3-none-any.whl\n",
      "Requirement already satisfied: Pillow in /opt/homebrew/Caskroom/miniconda/base/lib/python3.8/site-packages (from nicHelper) (8.1.0)\n",
      "Requirement already satisfied: boto3 in /opt/homebrew/Caskroom/miniconda/base/lib/python3.8/site-packages (from nicHelper) (1.14.63)\n",
      "Collecting beartype\n",
      "  Downloading beartype-0.6.0-py3-none-any.whl (366 kB)\n",
      "\u001b[K     |████████████████████████████████| 366 kB 3.0 MB/s eta 0:00:01\n",
      "\u001b[?25hCollecting pytest\n",
      "  Downloading pytest-6.2.2-py3-none-any.whl (280 kB)\n",
      "\u001b[K     |████████████████████████████████| 280 kB 17.3 MB/s eta 0:00:01\n",
      "\u001b[?25hRequirement already satisfied: requests in /opt/homebrew/Caskroom/miniconda/base/lib/python3.8/site-packages (from nicHelper) (2.23.0)\n",
      "Requirement already satisfied: pyyaml in /opt/homebrew/Caskroom/miniconda/base/lib/python3.8/site-packages (from nicHelper) (5.3.1)\n",
      "Requirement already satisfied: jsonschema in /opt/homebrew/Caskroom/miniconda/base/lib/python3.8/site-packages (from dataclasses-jsonschema->nicHelper) (3.2.0)\n",
      "Requirement already satisfied: python-dateutil in /opt/homebrew/Caskroom/miniconda/base/lib/python3.8/site-packages (from dataclasses-jsonschema->nicHelper) (2.8.1)\n",
      "Collecting botocore<1.18.0,>=1.17.63\n",
      "  Using cached botocore-1.17.63-py2.py3-none-any.whl (6.6 MB)\n",
      "Requirement already satisfied: jmespath<1.0.0,>=0.7.1 in /opt/homebrew/Caskroom/miniconda/base/lib/python3.8/site-packages (from boto3->nicHelper) (0.10.0)\n",
      "Requirement already satisfied: s3transfer<0.4.0,>=0.3.0 in /opt/homebrew/Caskroom/miniconda/base/lib/python3.8/site-packages (from boto3->nicHelper) (0.3.3)\n",
      "Requirement already satisfied: packaging in /opt/homebrew/Caskroom/miniconda/base/lib/python3.8/site-packages (from pytest->nicHelper) (20.8)\n",
      "Collecting pluggy<1.0.0a1,>=0.12\n",
      "  Downloading pluggy-0.13.1-py2.py3-none-any.whl (18 kB)\n",
      "Requirement already satisfied: attrs>=19.2.0 in /opt/homebrew/Caskroom/miniconda/base/lib/python3.8/site-packages (from pytest->nicHelper) (20.3.0)\n",
      "Collecting iniconfig\n",
      "  Downloading iniconfig-1.1.1-py2.py3-none-any.whl (5.0 kB)\n",
      "Collecting py>=1.8.2\n",
      "  Downloading py-1.10.0-py2.py3-none-any.whl (97 kB)\n",
      "\u001b[K     |████████████████████████████████| 97 kB 18.5 MB/s eta 0:00:01\n",
      "\u001b[?25hCollecting toml\n",
      "  Downloading toml-0.10.2-py2.py3-none-any.whl (16 kB)\n",
      "Requirement already satisfied: chardet<4,>=3.0.2 in /opt/homebrew/Caskroom/miniconda/base/lib/python3.8/site-packages (from requests->nicHelper) (3.0.4)\n",
      "Requirement already satisfied: idna<3,>=2.5 in /opt/homebrew/Caskroom/miniconda/base/lib/python3.8/site-packages (from requests->nicHelper) (2.10)\n",
      "Requirement already satisfied: certifi>=2017.4.17 in /opt/homebrew/Caskroom/miniconda/base/lib/python3.8/site-packages (from requests->nicHelper) (2020.12.5)\n",
      "Requirement already satisfied: urllib3!=1.25.0,!=1.25.1,<1.26,>=1.21.1 in /opt/homebrew/Caskroom/miniconda/base/lib/python3.8/site-packages (from requests->nicHelper) (1.25.11)\n",
      "Requirement already satisfied: setuptools in /opt/homebrew/Caskroom/miniconda/base/lib/python3.8/site-packages (from jsonschema->dataclasses-jsonschema->nicHelper) (50.3.1.post20201107)\n",
      "Requirement already satisfied: six>=1.11.0 in /opt/homebrew/Caskroom/miniconda/base/lib/python3.8/site-packages (from jsonschema->dataclasses-jsonschema->nicHelper) (1.15.0)\n",
      "Requirement already satisfied: pyrsistent>=0.14.0 in /opt/homebrew/Caskroom/miniconda/base/lib/python3.8/site-packages (from jsonschema->dataclasses-jsonschema->nicHelper) (0.17.3)\n",
      "Requirement already satisfied: docutils<0.16,>=0.10 in /opt/homebrew/Caskroom/miniconda/base/lib/python3.8/site-packages (from botocore<1.18.0,>=1.17.63->boto3->nicHelper) (0.15.2)\n",
      "Requirement already satisfied: pyparsing>=2.0.2 in /opt/homebrew/Caskroom/miniconda/base/lib/python3.8/site-packages (from packaging->pytest->nicHelper) (2.4.7)\n",
      "Building wheels for collected packages: dpath\n",
      "  Building wheel for dpath (setup.py) ... \u001b[?25ldone\n",
      "\u001b[?25h  Created wheel for dpath: filename=dpath-2.0.1-py3-none-any.whl size=15139 sha256=fd3077a9117d0c06b3ca782e545d606c28bf5f8cf11cbf6a84920bc091ab53a7\n",
      "  Stored in directory: /Users/macbookm1/Library/Caches/pip/wheels/0f/1b/ca/6263a5227f886599039aee3eed13951a6d44a02ee989ed6eb6\n",
      "Successfully built dpath\n",
      "Installing collected packages: dpath, dataclasses-jsonschema, genson, beartype, pluggy, iniconfig, py, toml, pytest, nicHelper, botocore\n",
      "  Attempting uninstall: botocore\n",
      "    Found existing installation: botocore 1.19.63\n",
      "    Uninstalling botocore-1.19.63:\n",
      "      Successfully uninstalled botocore-1.19.63\n",
      "\u001b[31mERROR: After October 2020 you may experience errors when installing or updating packages. This is because pip will change the way that it resolves dependency conflicts.\n",
      "\n",
      "We recommend you use --use-feature=2020-resolver to test your packages with the new resolver before it becomes the default.\n",
      "\n",
      "awscli 1.18.211 requires botocore==1.19.51, but you'll have botocore 1.17.63 which is incompatible.\n",
      "aws-sam-cli 1.15.0 requires python-dateutil<2.8.1,~=2.6, but you'll have python-dateutil 2.8.1 which is incompatible.\u001b[0m\n",
      "Successfully installed beartype-0.6.0 botocore-1.17.63 dataclasses-jsonschema-2.14.1 dpath-2.0.1 genson-1.2.2 iniconfig-1.1.1 nicHelper-0.0.43 pluggy-0.13.1 py-1.10.0 pytest-6.2.2 toml-0.10.2\n",
      "Note: you may need to restart the kernel to use updated packages.\n"
     ]
    }
   ],
   "source": [
    "pip install nicHelper"
   ]
  },
  {
   "cell_type": "code",
   "execution_count": 1,
   "metadata": {
    "scrolled": true
   },
   "outputs": [],
   "source": [
    "import jsonschema, yaml, json, unittest\n",
    "from jsonschema.exceptions import ValidationError\n",
    "from nicHelper.wrappers import add_method"
   ]
  },
  {
   "cell_type": "markdown",
   "metadata": {},
   "source": [
    "# Unit test for schema"
   ]
  },
  {
   "cell_type": "markdown",
   "metadata": {},
   "source": [
    "## define test data folder"
   ]
  },
  {
   "cell_type": "code",
   "execution_count": 2,
   "metadata": {},
   "outputs": [],
   "source": [
    "dataFolder = 'testData' # data folder"
   ]
  },
  {
   "cell_type": "markdown",
   "metadata": {},
   "source": [
    "## load schema"
   ]
  },
  {
   "cell_type": "code",
   "execution_count": 3,
   "metadata": {},
   "outputs": [
    {
     "name": "stdout",
     "output_type": "stream",
     "text": [
      "{'$schema': 'http://json-schema.org/schema#', 'additionalProperties': False, 'properties': {'pickingStatus': {'type': 'string', 'enum': ['picked', 'pending', 'cancelled']}, 'basketName': {'type': 'string'}, 'basketId': {'type': 'string'}, 'branchId': {'type': 'string'}, 'orderId': {'type': 'string'}, 'orderDate': {'type': 'number'}, 'ownerId': {'type': 'string'}, 'isPaid': {'type': 'boolean'}, 'paymentId': {'type': ['string', 'null']}, 'subTotal': {'type': ['number']}, 'shippingAmount': {'type': ['number']}, 'discountAmount': {'type': ['number']}, 'grandTotal': {'type': ['number']}, 'totalPaid': {'type': ['number']}, 'requestTaxInvoice': {'description': 'checkbox on checkout page', 'type': 'boolean', 'default': False}, 'requestSubstitute': {'description': 'checkbox on checkout page', 'type': 'boolean', 'default': False}, 'specialComment': {'description': 'special comment text field on checkout page', 'type': ['string', 'null']}, 'couponCode': {'type': ['string', 'null']}, 'shipping': {'type': 'object', 'properties': {'schedule': {'type': ['object', 'null'], 'properties': {'isExpress': {'type': 'boolean'}, 'time': {'type': 'string'}, 'data': {'type': 'string'}}}, 'shippingFirstName': {'type': 'string'}, 'shippingLastName': {'type': 'string'}, 'shippingAddress': {'type': 'string'}, 'shippingSubDistrict': {'type': 'string'}, 'shippingDistrict': {'type': 'string'}, 'shippingProvince': {'type': 'string'}, 'shippingPostcode': {'type': 'string'}, 'shippingPhone': {'type': 'string'}, 'shippingDate': {'type': 'number'}, 'shippingType': {'description': 'DELIVERY or PICKUP', 'type': ['string', 'null'], 'enum': ['DELIVERY', 'PICKUP', None]}}}, 'payment': {'type': 'object', 'description': '\"object which should be provided by the payment app\"\\n', 'properties': {'billingName': {'type': 'string'}, 'billingAddress': {'type': 'string'}, 'billingSubDistrict': {'type': 'string'}, 'billingDistrict': {'type': 'string'}, 'billingProvince': {'type': 'string'}, 'billingPostcode': {'type': 'string'}, 'billingPhone': {'type': 'string'}, 'customerFirstName': {'type': 'string'}, 'customerLastName': {'type': 'string'}, 'customerEmail': {'type': 'string'}, 'status': {'type': 'string'}, 'paymentLog': {'type': 'array', 'items': {'type': 'string'}}, 'remark': {'type': 'string'}, 'deliveryFee': {'type': ['number', 'null']}, 'grandTotal': {'type': 'number'}}}, 'productList': {'items': {'properties': {'productName': {'type': 'string'}, 'quantity': {'type': 'integer'}, 'cprcode': {'type': 'integer'}, 'originalPrice': {'type': 'number'}, 'price': {'description': 'Price per Unit', 'type': 'number'}, 'settlementPrice': {'description': 'subTotal = price * quantity', 'type': 'number'}, 'discount': {'description': 'discount amount', 'type': 'number'}, 'rowTotal': {'description': 'Subtotal - discount', 'type': 'number'}, 'remark': {'description': 'Per product remark', 'type': ['string', 'null']}}, 'required': ['quantity', 'cprcode'], 'type': 'object'}, 'type': 'array'}}, 'required': ['basketId', 'orderId', 'ownerId'], 'type': 'object'}\n"
     ]
    }
   ],
   "source": [
    "with open(f'./order.yaml', 'r')as f: # load the schema\n",
    "    schema = yaml.load(f.read(), Loader=yaml.FullLoader)\n",
    "\n",
    "print(schema)"
   ]
  },
  {
   "cell_type": "markdown",
   "metadata": {},
   "source": [
    "## create unit test object"
   ]
  },
  {
   "cell_type": "code",
   "execution_count": 4,
   "metadata": {},
   "outputs": [],
   "source": [
    "class TestValidation(unittest.TestCase):\n",
    "    def setUp(self):\n",
    "        with open(f'./order.yaml', 'r')as f: # load the schema\n",
    "            self.schema = yaml.load(f.read(), Loader=yaml.FullLoader)\n",
    "        self.dataFolder = 'testData' # data folder"
   ]
  },
  {
   "cell_type": "markdown",
   "metadata": {},
   "source": [
    "### good sample case"
   ]
  },
  {
   "cell_type": "code",
   "execution_count": 5,
   "metadata": {},
   "outputs": [],
   "source": [
    "@add_method(TestValidation)\n",
    "def testPassingGoodSample(self):\n",
    "    # good sample\n",
    "    with open(f'./{self.dataFolder}/goodSample.json','r')as f:\n",
    "        goodItem = json.load(f)\n",
    "    \n",
    "    try:\n",
    "        jsonschema.validate(goodItem,self.schema)\n",
    "    except ValidationError as e:\n",
    "        print(e)"
   ]
  },
  {
   "cell_type": "markdown",
   "metadata": {},
   "source": [
    "### bad case"
   ]
  },
  {
   "cell_type": "markdown",
   "metadata": {},
   "source": [
    "#### wrong type"
   ]
  },
  {
   "cell_type": "code",
   "execution_count": 6,
   "metadata": {},
   "outputs": [],
   "source": [
    "@add_method(TestValidation)\n",
    "def testWrongType(self):\n",
    "    with open(f'./{self.dataFolder}/wrongType.json','r')as f:\n",
    "        badItem = json.load(f)\n",
    "    with self.assertRaises(ValidationError):\n",
    "        jsonschema.validate(badItem,self.schema)\n",
    "    try:\n",
    "        jsonschema.validate(badItem,self.schema)\n",
    "    except ValidationError as e:\n",
    "        self.assertTrue(\"1234 is not of type 'string'\" in e.message, \n",
    "                        f'wrong error message{e.message}, should be 1234 is not type string')"
   ]
  },
  {
   "cell_type": "markdown",
   "metadata": {},
   "source": [
    "#### extraneous column"
   ]
  },
  {
   "cell_type": "code",
   "execution_count": 7,
   "metadata": {},
   "outputs": [],
   "source": [
    "@add_method(TestValidation)\n",
    "def testExtraColumn(self):\n",
    "    with open(f'./{self.dataFolder}/extraCol.json','r')as f:\n",
    "        badItem = json.load(f)\n",
    "    with self.assertRaises(ValidationError):\n",
    "        jsonschema.validate(badItem,self.schema)\n",
    "    try:\n",
    "        jsonschema.validate(badItem,self.schema)\n",
    "    except ValidationError as e:\n",
    "        self.assertTrue('Additional properties are not allowed' in e.message)"
   ]
  },
  {
   "cell_type": "code",
   "execution_count": 8,
   "metadata": {},
   "outputs": [
    {
     "name": "stderr",
     "output_type": "stream",
     "text": [
      "...\n",
      "----------------------------------------------------------------------\n",
      "Ran 3 tests in 0.080s\n",
      "\n",
      "OK\n"
     ]
    },
    {
     "data": {
      "text/plain": [
       "<unittest.runner.TextTestResult run=3 errors=0 failures=0>"
      ]
     },
     "execution_count": 8,
     "metadata": {},
     "output_type": "execute_result"
    }
   ],
   "source": [
    "suite = unittest.defaultTestLoader.loadTestsFromTestCase(TestValidation)\n",
    "unittest.TextTestRunner().run(suite)"
   ]
  },
  {
   "cell_type": "code",
   "execution_count": 9,
   "metadata": {},
   "outputs": [
    {
     "name": "stdout",
     "output_type": "stream",
     "text": [
      "Traceback (most recent call last):\r\n",
      "  File \"/opt/homebrew/Caskroom/miniconda/base/bin/jupyter-nbconvert\", line 8, in <module>\r\n",
      "    sys.exit(main())\r\n",
      "  File \"/opt/homebrew/Caskroom/miniconda/base/lib/python3.8/site-packages/jupyter_core/application.py\", line 254, in launch_instance\r\n",
      "    return super(JupyterApp, cls).launch_instance(argv=argv, **kwargs)\r\n",
      "  File \"/opt/homebrew/Caskroom/miniconda/base/lib/python3.8/site-packages/traitlets/config/application.py\", line 845, in launch_instance\r\n",
      "    app.start()\r\n",
      "  File \"/opt/homebrew/Caskroom/miniconda/base/lib/python3.8/site-packages/nbconvert/nbconvertapp.py\", line 340, in start\r\n",
      "    self.convert_notebooks()\r\n",
      "  File \"/opt/homebrew/Caskroom/miniconda/base/lib/python3.8/site-packages/nbconvert/nbconvertapp.py\", line 500, in convert_notebooks\r\n",
      "    self.exporter = cls(config=self.config)\r\n",
      "  File \"/opt/homebrew/Caskroom/miniconda/base/lib/python3.8/site-packages/nbconvert/exporters/templateexporter.py\", line 263, in __init__\r\n",
      "    super(TemplateExporter, self).__init__(config=config, **kw)\r\n",
      "  File \"/opt/homebrew/Caskroom/miniconda/base/lib/python3.8/site-packages/nbconvert/exporters/exporter.py\", line 110, in __init__\r\n",
      "    self._init_preprocessors()\r\n",
      "  File \"/opt/homebrew/Caskroom/miniconda/base/lib/python3.8/site-packages/nbconvert/exporters/exporter.py\", line 264, in _init_preprocessors\r\n",
      "    self.register_preprocessor(preprocessor, enabled=True)\r\n",
      "  File \"/opt/homebrew/Caskroom/miniconda/base/lib/python3.8/site-packages/nbconvert/exporters/exporter.py\", line 225, in register_preprocessor\r\n",
      "    preprocessor_cls = import_item(preprocessor)\r\n",
      "  File \"/opt/homebrew/Caskroom/miniconda/base/lib/python3.8/site-packages/traitlets/utils/importstring.py\", line 30, in import_item\r\n",
      "    module = __import__(package, fromlist=[obj])\r\n",
      "ModuleNotFoundError: No module named 'jupyter_contrib_nbextensions'\r\n"
     ]
    }
   ],
   "source": [
    "try:\n",
    "    !jupyter nbconvert --to script tester.ipynb\n",
    "except:\n",
    "    pass"
   ]
  },
  {
   "cell_type": "code",
   "execution_count": null,
   "metadata": {},
   "outputs": [],
   "source": []
  }
 ],
 "metadata": {
  "kernelspec": {
   "display_name": "Python 3",
   "language": "python",
   "name": "python3"
  },
  "language_info": {
   "codemirror_mode": {
    "name": "ipython",
    "version": 3
   },
   "file_extension": ".py",
   "mimetype": "text/x-python",
   "name": "python",
   "nbconvert_exporter": "python",
   "pygments_lexer": "ipython3",
   "version": "3.8.5"
  },
  "varInspector": {
   "cols": {
    "lenName": 16,
    "lenType": 16,
    "lenVar": 40
   },
   "kernels_config": {
    "python": {
     "delete_cmd_postfix": "",
     "delete_cmd_prefix": "del ",
     "library": "var_list.py",
     "varRefreshCmd": "print(var_dic_list())"
    },
    "r": {
     "delete_cmd_postfix": ") ",
     "delete_cmd_prefix": "rm(",
     "library": "var_list.r",
     "varRefreshCmd": "cat(var_dic_list()) "
    }
   },
   "types_to_exclude": [
    "module",
    "function",
    "builtin_function_or_method",
    "instance",
    "_Feature"
   ],
   "window_display": false
  }
 },
 "nbformat": 4,
 "nbformat_minor": 5
}
